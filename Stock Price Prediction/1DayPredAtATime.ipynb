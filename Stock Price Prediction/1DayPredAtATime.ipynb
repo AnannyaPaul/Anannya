{
 "cells": [
  {
   "cell_type": "markdown",
   "id": "c177a0af",
   "metadata": {},
   "source": [
    "# Stock Price Prediction (Infosys Stock)\n",
    "\n",
    "Here, I am collecting live stock price data and creating a model to predict the closing price for next 1day at a time. \n",
    "We are predicting for very just 1 day because stock market is highly volatile and predictions are more accurate when we predict for less number of days."
   ]
  },
  {
   "cell_type": "markdown",
   "id": "fc3d4ebf",
   "metadata": {},
   "source": [
    "## Getting the stock data for Infosys Stock"
   ]
  },
  {
   "cell_type": "code",
   "execution_count": 1,
   "id": "5db6141b",
   "metadata": {},
   "outputs": [],
   "source": [
    "import pandas as pd\n",
    "import numpy as np\n",
    "\n",
    "# To remove the scientific notation from numpy arrays\n",
    "np.set_printoptions(suppress=True)"
   ]
  },
  {
   "cell_type": "code",
   "execution_count": 2,
   "id": "7cf8f32a",
   "metadata": {},
   "outputs": [],
   "source": [
    "# install the nsepy library to get stock prices\n",
    "#!pip install nsepy"
   ]
  },
  {
   "cell_type": "code",
   "execution_count": 56,
   "id": "afbd3435",
   "metadata": {},
   "outputs": [
    {
     "name": "stdout",
     "output_type": "stream",
     "text": [
      "(658, 14)\n"
     ]
    },
    {
     "data": {
      "text/html": [
       "<div>\n",
       "<style scoped>\n",
       "    .dataframe tbody tr th:only-of-type {\n",
       "        vertical-align: middle;\n",
       "    }\n",
       "\n",
       "    .dataframe tbody tr th {\n",
       "        vertical-align: top;\n",
       "    }\n",
       "\n",
       "    .dataframe thead th {\n",
       "        text-align: right;\n",
       "    }\n",
       "</style>\n",
       "<table border=\"1\" class=\"dataframe\">\n",
       "  <thead>\n",
       "    <tr style=\"text-align: right;\">\n",
       "      <th></th>\n",
       "      <th>Symbol</th>\n",
       "      <th>Series</th>\n",
       "      <th>Prev Close</th>\n",
       "      <th>Open</th>\n",
       "      <th>High</th>\n",
       "      <th>Low</th>\n",
       "      <th>Last</th>\n",
       "      <th>Close</th>\n",
       "      <th>VWAP</th>\n",
       "      <th>Volume</th>\n",
       "      <th>Turnover</th>\n",
       "      <th>Trades</th>\n",
       "      <th>Deliverable Volume</th>\n",
       "      <th>%Deliverble</th>\n",
       "    </tr>\n",
       "    <tr>\n",
       "      <th>Date</th>\n",
       "      <th></th>\n",
       "      <th></th>\n",
       "      <th></th>\n",
       "      <th></th>\n",
       "      <th></th>\n",
       "      <th></th>\n",
       "      <th></th>\n",
       "      <th></th>\n",
       "      <th></th>\n",
       "      <th></th>\n",
       "      <th></th>\n",
       "      <th></th>\n",
       "      <th></th>\n",
       "      <th></th>\n",
       "    </tr>\n",
       "  </thead>\n",
       "  <tbody>\n",
       "    <tr>\n",
       "      <th>2019-01-01</th>\n",
       "      <td>INFY</td>\n",
       "      <td>EQ</td>\n",
       "      <td>658.95</td>\n",
       "      <td>660.95</td>\n",
       "      <td>666.3</td>\n",
       "      <td>654.15</td>\n",
       "      <td>665.95</td>\n",
       "      <td>665.05</td>\n",
       "      <td>660.66</td>\n",
       "      <td>2943390</td>\n",
       "      <td>1.944579e+14</td>\n",
       "      <td>45422</td>\n",
       "      <td>1282161</td>\n",
       "      <td>0.4356</td>\n",
       "    </tr>\n",
       "    <tr>\n",
       "      <th>2019-01-02</th>\n",
       "      <td>INFY</td>\n",
       "      <td>EQ</td>\n",
       "      <td>665.05</td>\n",
       "      <td>666.00</td>\n",
       "      <td>674.0</td>\n",
       "      <td>662.05</td>\n",
       "      <td>668.00</td>\n",
       "      <td>669.05</td>\n",
       "      <td>669.97</td>\n",
       "      <td>7416655</td>\n",
       "      <td>4.968963e+14</td>\n",
       "      <td>108094</td>\n",
       "      <td>3880800</td>\n",
       "      <td>0.5233</td>\n",
       "    </tr>\n",
       "    <tr>\n",
       "      <th>2019-01-03</th>\n",
       "      <td>INFY</td>\n",
       "      <td>EQ</td>\n",
       "      <td>669.05</td>\n",
       "      <td>672.00</td>\n",
       "      <td>677.0</td>\n",
       "      <td>663.10</td>\n",
       "      <td>668.00</td>\n",
       "      <td>669.15</td>\n",
       "      <td>669.66</td>\n",
       "      <td>6827249</td>\n",
       "      <td>4.571929e+14</td>\n",
       "      <td>125781</td>\n",
       "      <td>3676359</td>\n",
       "      <td>0.5385</td>\n",
       "    </tr>\n",
       "    <tr>\n",
       "      <th>2019-01-04</th>\n",
       "      <td>INFY</td>\n",
       "      <td>EQ</td>\n",
       "      <td>669.15</td>\n",
       "      <td>671.75</td>\n",
       "      <td>673.9</td>\n",
       "      <td>651.00</td>\n",
       "      <td>660.25</td>\n",
       "      <td>661.05</td>\n",
       "      <td>660.17</td>\n",
       "      <td>7889310</td>\n",
       "      <td>5.208305e+14</td>\n",
       "      <td>187590</td>\n",
       "      <td>3747741</td>\n",
       "      <td>0.4750</td>\n",
       "    </tr>\n",
       "    <tr>\n",
       "      <th>2019-01-07</th>\n",
       "      <td>INFY</td>\n",
       "      <td>EQ</td>\n",
       "      <td>661.05</td>\n",
       "      <td>665.00</td>\n",
       "      <td>673.6</td>\n",
       "      <td>661.50</td>\n",
       "      <td>671.70</td>\n",
       "      <td>671.70</td>\n",
       "      <td>667.51</td>\n",
       "      <td>8046340</td>\n",
       "      <td>5.370974e+14</td>\n",
       "      <td>132736</td>\n",
       "      <td>4711672</td>\n",
       "      <td>0.5856</td>\n",
       "    </tr>\n",
       "  </tbody>\n",
       "</table>\n",
       "</div>"
      ],
      "text/plain": [
       "           Symbol Series  Prev Close    Open   High     Low    Last   Close  \\\n",
       "Date                                                                          \n",
       "2019-01-01   INFY     EQ      658.95  660.95  666.3  654.15  665.95  665.05   \n",
       "2019-01-02   INFY     EQ      665.05  666.00  674.0  662.05  668.00  669.05   \n",
       "2019-01-03   INFY     EQ      669.05  672.00  677.0  663.10  668.00  669.15   \n",
       "2019-01-04   INFY     EQ      669.15  671.75  673.9  651.00  660.25  661.05   \n",
       "2019-01-07   INFY     EQ      661.05  665.00  673.6  661.50  671.70  671.70   \n",
       "\n",
       "              VWAP   Volume      Turnover  Trades  Deliverable Volume  \\\n",
       "Date                                                                    \n",
       "2019-01-01  660.66  2943390  1.944579e+14   45422             1282161   \n",
       "2019-01-02  669.97  7416655  4.968963e+14  108094             3880800   \n",
       "2019-01-03  669.66  6827249  4.571929e+14  125781             3676359   \n",
       "2019-01-04  660.17  7889310  5.208305e+14  187590             3747741   \n",
       "2019-01-07  667.51  8046340  5.370974e+14  132736             4711672   \n",
       "\n",
       "            %Deliverble  \n",
       "Date                     \n",
       "2019-01-01       0.4356  \n",
       "2019-01-02       0.5233  \n",
       "2019-01-03       0.5385  \n",
       "2019-01-04       0.4750  \n",
       "2019-01-07       0.5856  "
      ]
     },
     "execution_count": 56,
     "metadata": {},
     "output_type": "execute_result"
    }
   ],
   "source": [
    "# Getting Stock data using nsepy library\n",
    "from nsepy import get_history\n",
    "from datetime import datetime\n",
    "\n",
    "startDate=datetime(2019, 1,1)\n",
    "endDate=datetime(2021, 8, 26)\n",
    "\n",
    "# Fetching the data\n",
    "StockData=get_history(symbol='INFY', start=startDate, end=endDate)\n",
    "print(StockData.shape)\n",
    "StockData.head()"
   ]
  },
  {
   "cell_type": "code",
   "execution_count": 57,
   "id": "0fa72704",
   "metadata": {},
   "outputs": [
    {
     "data": {
      "text/html": [
       "<div>\n",
       "<style scoped>\n",
       "    .dataframe tbody tr th:only-of-type {\n",
       "        vertical-align: middle;\n",
       "    }\n",
       "\n",
       "    .dataframe tbody tr th {\n",
       "        vertical-align: top;\n",
       "    }\n",
       "\n",
       "    .dataframe thead th {\n",
       "        text-align: right;\n",
       "    }\n",
       "</style>\n",
       "<table border=\"1\" class=\"dataframe\">\n",
       "  <thead>\n",
       "    <tr style=\"text-align: right;\">\n",
       "      <th></th>\n",
       "      <th>Symbol</th>\n",
       "      <th>Series</th>\n",
       "      <th>Prev Close</th>\n",
       "      <th>Open</th>\n",
       "      <th>High</th>\n",
       "      <th>Low</th>\n",
       "      <th>Last</th>\n",
       "      <th>Close</th>\n",
       "      <th>VWAP</th>\n",
       "      <th>Volume</th>\n",
       "      <th>Turnover</th>\n",
       "      <th>Trades</th>\n",
       "      <th>Deliverable Volume</th>\n",
       "      <th>%Deliverble</th>\n",
       "      <th>TradeDate</th>\n",
       "    </tr>\n",
       "    <tr>\n",
       "      <th>Date</th>\n",
       "      <th></th>\n",
       "      <th></th>\n",
       "      <th></th>\n",
       "      <th></th>\n",
       "      <th></th>\n",
       "      <th></th>\n",
       "      <th></th>\n",
       "      <th></th>\n",
       "      <th></th>\n",
       "      <th></th>\n",
       "      <th></th>\n",
       "      <th></th>\n",
       "      <th></th>\n",
       "      <th></th>\n",
       "      <th></th>\n",
       "    </tr>\n",
       "  </thead>\n",
       "  <tbody>\n",
       "    <tr>\n",
       "      <th>2021-08-20</th>\n",
       "      <td>INFY</td>\n",
       "      <td>EQ</td>\n",
       "      <td>1733.45</td>\n",
       "      <td>1716.10</td>\n",
       "      <td>1745.00</td>\n",
       "      <td>1716.1</td>\n",
       "      <td>1729.50</td>\n",
       "      <td>1732.95</td>\n",
       "      <td>1734.19</td>\n",
       "      <td>6206972</td>\n",
       "      <td>1.076408e+15</td>\n",
       "      <td>188065</td>\n",
       "      <td>3883003</td>\n",
       "      <td>0.6256</td>\n",
       "      <td>2021-08-20</td>\n",
       "    </tr>\n",
       "    <tr>\n",
       "      <th>2021-08-23</th>\n",
       "      <td>INFY</td>\n",
       "      <td>EQ</td>\n",
       "      <td>1732.95</td>\n",
       "      <td>1735.75</td>\n",
       "      <td>1753.15</td>\n",
       "      <td>1732.0</td>\n",
       "      <td>1739.60</td>\n",
       "      <td>1738.75</td>\n",
       "      <td>1741.65</td>\n",
       "      <td>6189051</td>\n",
       "      <td>1.077919e+15</td>\n",
       "      <td>170252</td>\n",
       "      <td>3872899</td>\n",
       "      <td>0.6258</td>\n",
       "      <td>2021-08-23</td>\n",
       "    </tr>\n",
       "    <tr>\n",
       "      <th>2021-08-24</th>\n",
       "      <td>INFY</td>\n",
       "      <td>EQ</td>\n",
       "      <td>1738.75</td>\n",
       "      <td>1750.00</td>\n",
       "      <td>1757.00</td>\n",
       "      <td>1712.7</td>\n",
       "      <td>1721.50</td>\n",
       "      <td>1720.85</td>\n",
       "      <td>1729.85</td>\n",
       "      <td>7602939</td>\n",
       "      <td>1.315198e+15</td>\n",
       "      <td>242564</td>\n",
       "      <td>5474553</td>\n",
       "      <td>0.7201</td>\n",
       "      <td>2021-08-24</td>\n",
       "    </tr>\n",
       "    <tr>\n",
       "      <th>2021-08-25</th>\n",
       "      <td>INFY</td>\n",
       "      <td>EQ</td>\n",
       "      <td>1720.85</td>\n",
       "      <td>1718.00</td>\n",
       "      <td>1746.90</td>\n",
       "      <td>1718.0</td>\n",
       "      <td>1737.65</td>\n",
       "      <td>1735.55</td>\n",
       "      <td>1732.13</td>\n",
       "      <td>6153253</td>\n",
       "      <td>1.065823e+15</td>\n",
       "      <td>140494</td>\n",
       "      <td>4174523</td>\n",
       "      <td>0.6784</td>\n",
       "      <td>2021-08-25</td>\n",
       "    </tr>\n",
       "    <tr>\n",
       "      <th>2021-08-26</th>\n",
       "      <td>INFY</td>\n",
       "      <td>EQ</td>\n",
       "      <td>1735.55</td>\n",
       "      <td>1734.00</td>\n",
       "      <td>1746.00</td>\n",
       "      <td>1720.0</td>\n",
       "      <td>1723.40</td>\n",
       "      <td>1727.70</td>\n",
       "      <td>1734.31</td>\n",
       "      <td>5302248</td>\n",
       "      <td>9.195717e+14</td>\n",
       "      <td>114055</td>\n",
       "      <td>3452873</td>\n",
       "      <td>0.6512</td>\n",
       "      <td>2021-08-26</td>\n",
       "    </tr>\n",
       "  </tbody>\n",
       "</table>\n",
       "</div>"
      ],
      "text/plain": [
       "           Symbol Series  Prev Close     Open     High     Low     Last  \\\n",
       "Date                                                                      \n",
       "2021-08-20   INFY     EQ     1733.45  1716.10  1745.00  1716.1  1729.50   \n",
       "2021-08-23   INFY     EQ     1732.95  1735.75  1753.15  1732.0  1739.60   \n",
       "2021-08-24   INFY     EQ     1738.75  1750.00  1757.00  1712.7  1721.50   \n",
       "2021-08-25   INFY     EQ     1720.85  1718.00  1746.90  1718.0  1737.65   \n",
       "2021-08-26   INFY     EQ     1735.55  1734.00  1746.00  1720.0  1723.40   \n",
       "\n",
       "              Close     VWAP   Volume      Turnover  Trades  \\\n",
       "Date                                                          \n",
       "2021-08-20  1732.95  1734.19  6206972  1.076408e+15  188065   \n",
       "2021-08-23  1738.75  1741.65  6189051  1.077919e+15  170252   \n",
       "2021-08-24  1720.85  1729.85  7602939  1.315198e+15  242564   \n",
       "2021-08-25  1735.55  1732.13  6153253  1.065823e+15  140494   \n",
       "2021-08-26  1727.70  1734.31  5302248  9.195717e+14  114055   \n",
       "\n",
       "            Deliverable Volume  %Deliverble   TradeDate  \n",
       "Date                                                     \n",
       "2021-08-20             3883003       0.6256  2021-08-20  \n",
       "2021-08-23             3872899       0.6258  2021-08-23  \n",
       "2021-08-24             5474553       0.7201  2021-08-24  \n",
       "2021-08-25             4174523       0.6784  2021-08-25  \n",
       "2021-08-26             3452873       0.6512  2021-08-26  "
      ]
     },
     "execution_count": 57,
     "metadata": {},
     "output_type": "execute_result"
    }
   ],
   "source": [
    "# Creating a column as date\n",
    "StockData['TradeDate']=StockData.index\n",
    "StockData.tail()"
   ]
  },
  {
   "cell_type": "markdown",
   "id": "9e955cef",
   "metadata": {},
   "source": [
    "### Plotting the closing  prices of stock"
   ]
  },
  {
   "cell_type": "code",
   "execution_count": 58,
   "id": "3c16e2e0",
   "metadata": {},
   "outputs": [
    {
     "data": {
      "text/plain": [
       "<AxesSubplot:xlabel='TradeDate'>"
      ]
     },
     "execution_count": 58,
     "metadata": {},
     "output_type": "execute_result"
    },
    {
     "data": {
      "image/png": "[encoded data removed]",
      "text/plain": [
       "<Figure size 1440x432 with 1 Axes>"
      ]
     },
     "metadata": {
      "needs_background": "light"
     },
     "output_type": "display_data"
    }
   ],
   "source": [
    "%matplotlib inline\n",
    "StockData.plot(x='TradeDate', y='Close', kind='line', figsize=(20,6), rot=20)"
   ]
  },
  {
   "cell_type": "markdown",
   "id": "e9a78fa5",
   "metadata": {},
   "source": [
    "### Preparing the data"
   ]
  },
  {
   "cell_type": "code",
   "execution_count": 59,
   "id": "4223d4ac",
   "metadata": {},
   "outputs": [
    {
     "data": {
      "text/plain": [
       "array([[1617.  ],\n",
       "       [1610.5 ],\n",
       "       [1631.55],\n",
       "       [1655.2 ],\n",
       "       [1649.25],\n",
       "       [1653.55],\n",
       "       [1650.2 ],\n",
       "       [1663.3 ],\n",
       "       [1677.25],\n",
       "       [1677.55],\n",
       "       [1689.6 ],\n",
       "       [1712.2 ],\n",
       "       [1704.4 ],\n",
       "       [1741.65],\n",
       "       [1733.45],\n",
       "       [1732.95],\n",
       "       [1738.75],\n",
       "       [1720.85],\n",
       "       [1735.55],\n",
       "       [1727.7 ]])"
      ]
     },
     "execution_count": 59,
     "metadata": {},
     "output_type": "execute_result"
    }
   ],
   "source": [
    "FullData=StockData[['Close']].values\n",
    "FullData[-20:]"
   ]
  },
  {
   "cell_type": "markdown",
   "id": "5c7502b0",
   "metadata": {},
   "source": [
    "### Feature Scaling for fast training"
   ]
  },
  {
   "cell_type": "code",
   "execution_count": 60,
   "id": "393eed97",
   "metadata": {},
   "outputs": [
    {
     "data": {
      "text/plain": [
       "array([[0.1140553 ],\n",
       "       [0.11734694],\n",
       "       [0.11742923],\n",
       "       [0.11076366],\n",
       "       [0.11952765]])"
      ]
     },
     "execution_count": 60,
     "metadata": {},
     "output_type": "execute_result"
    }
   ],
   "source": [
    "# Feature Scaling for fast training of neural networks\n",
    "from sklearn.preprocessing import StandardScaler, MinMaxScaler\n",
    "\n",
    "# Choosing between Standardization or normalization\n",
    "#sc = StandardScaler()\n",
    "sc=MinMaxScaler()\n",
    "\n",
    "DataScaler = sc.fit(FullData)\n",
    "X=DataScaler.transform(FullData)\n",
    "#X=FullData\n",
    "\n",
    "X[0:5]"
   ]
  },
  {
   "cell_type": "code",
   "execution_count": 61,
   "id": "447d92af",
   "metadata": {},
   "outputs": [],
   "source": [
    "# split into samples\n",
    "X_samples = list()\n",
    "y_samples = list()\n",
    "\n",
    "NumerOfRows = len(X)\n",
    "TimeSteps=10  # next day's Price Prediction is based on last how many past day's prices\n",
    "\n",
    "# Iterate thru the values to create combinations\n",
    "for i in range(TimeSteps , NumerOfRows , 1):\n",
    "    x_sample = X[i-TimeSteps:i]\n",
    "    y_sample = X[i]\n",
    "    X_samples.append(x_sample)\n",
    "    y_samples.append(y_sample)"
   ]
  },
  {
   "cell_type": "code",
   "execution_count": 62,
   "id": "74312703",
   "metadata": {},
   "outputs": [
    {
     "data": {
      "text/plain": [
       "(648, 10, 1)"
      ]
     },
     "execution_count": 62,
     "metadata": {},
     "output_type": "execute_result"
    }
   ],
   "source": [
    "# Reshape the Input as a 3D (samples, Time Steps, Features)\n",
    "X_data=np.array(X_samples)\n",
    "X_data=X_data.reshape(X_data.shape[0],X_data.shape[1], 1)\n",
    "X_data.shape"
   ]
  },
  {
   "cell_type": "code",
   "execution_count": 63,
   "id": "5b5a47fe",
   "metadata": {},
   "outputs": [
    {
     "data": {
      "text/plain": [
       "array([[[0.1140553 ],\n",
       "        [0.11734694],\n",
       "        [0.11742923],\n",
       "        [0.11076366],\n",
       "        [0.11952765],\n",
       "        [0.11816985],\n",
       "        [0.12314845],\n",
       "        [0.12611093],\n",
       "        [0.12923799],\n",
       "        [0.14437953]],\n",
       "\n",
       "       [[0.11734694],\n",
       "        [0.11742923],\n",
       "        [0.11076366],\n",
       "        [0.11952765],\n",
       "        [0.11816985],\n",
       "        [0.12314845],\n",
       "        [0.12611093],\n",
       "        [0.12923799],\n",
       "        [0.14437953],\n",
       "        [0.1647054 ]]])"
      ]
     },
     "execution_count": 63,
     "metadata": {},
     "output_type": "execute_result"
    }
   ],
   "source": [
    "X_data[0:2]"
   ]
  },
  {
   "cell_type": "code",
   "execution_count": 64,
   "id": "1b4a0fb8",
   "metadata": {},
   "outputs": [
    {
     "data": {
      "text/plain": [
       "(648, 1)"
      ]
     },
     "execution_count": 64,
     "metadata": {},
     "output_type": "execute_result"
    }
   ],
   "source": [
    "# We do not reshape y as a 3D data  as it is supposed to be a single column only\n",
    "y_data=np.array(y_samples)\n",
    "y_data=y_data.reshape(y_data.shape[0], 1)\n",
    "y_data.shape"
   ]
  },
  {
   "cell_type": "code",
   "execution_count": 12,
   "id": "e99a3751",
   "metadata": {},
   "outputs": [],
   "source": [
    "# Choosing the number of testing data records\n",
    "TestingRecords=5\n",
    "\n",
    "# Splitting the data into train and test\n",
    "X_train=X_data[:-TestingRecords]\n",
    "X_test=X_data[-TestingRecords:]\n",
    "y_train=y_data[:-TestingRecords]\n",
    "y_test=y_data[-TestingRecords:]"
   ]
  },
  {
   "cell_type": "code",
   "execution_count": 13,
   "id": "80ae0e88",
   "metadata": {},
   "outputs": [
    {
     "name": "stdout",
     "output_type": "stream",
     "text": [
      "(639, 10, 1)\n",
      "(639, 1)\n",
      "(5, 10, 1)\n",
      "(5, 1)\n"
     ]
    }
   ],
   "source": [
    "# Printing the shape of training and testing\n",
    "print(X_train.shape)\n",
    "print(y_train.shape)\n",
    "print(X_test.shape)\n",
    "print(y_test.shape)"
   ]
  },
  {
   "cell_type": "code",
   "execution_count": null,
   "id": "c7bd621e",
   "metadata": {},
   "outputs": [],
   "source": []
  },
  {
   "cell_type": "code",
   "execution_count": 14,
   "id": "d2c17fd7",
   "metadata": {},
   "outputs": [
    {
     "name": "stdout",
     "output_type": "stream",
     "text": [
      "[[0.1140553 ]\n",
      " [0.11734694]\n",
      " [0.11742923]\n",
      " [0.11076366]\n",
      " [0.11952765]\n",
      " [0.11816985]\n",
      " [0.12314845]\n",
      " [0.12611093]\n",
      " [0.12923799]\n",
      " [0.14437953]] --> [0.1647054]\n",
      "[[0.11734694]\n",
      " [0.11742923]\n",
      " [0.11076366]\n",
      " [0.11952765]\n",
      " [0.11816985]\n",
      " [0.12314845]\n",
      " [0.12611093]\n",
      " [0.12923799]\n",
      " [0.14437953]\n",
      " [0.1647054 ]] --> [0.17309908]\n",
      "[[0.11742923]\n",
      " [0.11076366]\n",
      " [0.11952765]\n",
      " [0.11816985]\n",
      " [0.12314845]\n",
      " [0.12611093]\n",
      " [0.12923799]\n",
      " [0.14437953]\n",
      " [0.1647054 ]\n",
      " [0.17309908]] --> [0.17026004]\n",
      "[[0.11076366]\n",
      " [0.11952765]\n",
      " [0.11816985]\n",
      " [0.12314845]\n",
      " [0.12611093]\n",
      " [0.12923799]\n",
      " [0.14437953]\n",
      " [0.1647054 ]\n",
      " [0.17309908]\n",
      " [0.17026004]] --> [0.16828506]\n",
      "[[0.11952765]\n",
      " [0.11816985]\n",
      " [0.12314845]\n",
      " [0.12611093]\n",
      " [0.12923799]\n",
      " [0.14437953]\n",
      " [0.1647054 ]\n",
      " [0.17309908]\n",
      " [0.17026004]\n",
      " [0.16828506]] --> [0.17984694]\n"
     ]
    }
   ],
   "source": [
    "# Visualizing the input and output being sent to the LSTM model\n",
    "for inp, out in zip(X_train[0:5], y_train[0:5]):\n",
    "    print(inp,'-->', out)"
   ]
  },
  {
   "cell_type": "code",
   "execution_count": 15,
   "id": "a201971d",
   "metadata": {},
   "outputs": [
    {
     "name": "stdout",
     "output_type": "stream",
     "text": [
      "Number of TimeSteps: 10\n",
      "Number of Features: 1\n"
     ]
    }
   ],
   "source": [
    "# Defining Input shapes for LSTM\n",
    "TimeSteps=X_train.shape[1]\n",
    "TotalFeatures=X_train.shape[2]\n",
    "print(\"Number of TimeSteps:\", TimeSteps)\n",
    "print(\"Number of Features:\", TotalFeatures)"
   ]
  },
  {
   "cell_type": "code",
   "execution_count": null,
   "id": "1f5204b3",
   "metadata": {},
   "outputs": [],
   "source": []
  },
  {
   "cell_type": "markdown",
   "id": "2b83e5b5",
   "metadata": {},
   "source": [
    "## Fitting the Deep Learning LSTM model"
   ]
  },
  {
   "cell_type": "code",
   "execution_count": 16,
   "id": "6d09ac77",
   "metadata": {},
   "outputs": [
    {
     "name": "stderr",
     "output_type": "stream",
     "text": [
      "Using TensorFlow backend.\n"
     ]
    }
   ],
   "source": [
    "# Importing the Keras libraries and packages\n",
    "from keras.models import Sequential\n",
    "from keras.layers import Dense\n",
    "from keras.layers import LSTM\n",
    "\n",
    "# Initialising the RNN\n",
    "regressor = Sequential()\n",
    "\n",
    "# Adding the First input hidden layer and the LSTM layer\n",
    "# return_sequences = True, means the output of every time step to be shared with hidden next layer\n",
    "regressor.add(LSTM(units = 10, activation = 'relu', input_shape = (TimeSteps, TotalFeatures), return_sequences=True))\n",
    "\n",
    "\n",
    "# Adding the Second hidden layer and the LSTM layer\n",
    "regressor.add(LSTM(units = 5, activation = 'relu', input_shape = (TimeSteps, TotalFeatures), return_sequences=True))\n",
    "\n",
    "# Adding the Third hidden layer and the LSTM layer\n",
    "regressor.add(LSTM(units = 5, activation = 'relu', return_sequences=False ))\n",
    "\n",
    "\n",
    "# Adding the output layer\n",
    "regressor.add(Dense(units = 1))\n",
    "\n",
    "# Compiling the RNN\n",
    "regressor.compile(optimizer = 'adam', loss = 'mean_squared_error')"
   ]
  },
  {
   "cell_type": "code",
   "execution_count": 17,
   "id": "0638c188",
   "metadata": {},
   "outputs": [
    {
     "name": "stdout",
     "output_type": "stream",
     "text": [
      "Epoch 1/100\n",
      "639/639 [==============================] - 5s 8ms/step - loss: 0.0695\n",
      "Epoch 2/100\n",
      "639/639 [==============================] - 2s 3ms/step - loss: 0.0016\n",
      "Epoch 3/100\n",
      "639/639 [==============================] - 2s 3ms/step - loss: 0.0011\n",
      "Epoch 4/100\n",
      "639/639 [==============================] - 2s 3ms/step - loss: 9.8461e-04\n",
      "Epoch 5/100\n",
      "639/639 [==============================] - 2s 3ms/step - loss: 0.0010\n",
      "Epoch 6/100\n",
      "639/639 [==============================] - 2s 3ms/step - loss: 9.8979e-04\n",
      "Epoch 7/100\n",
      "639/639 [==============================] - 2s 3ms/step - loss: 0.0010\n",
      "Epoch 8/100\n",
      "639/639 [==============================] - 2s 3ms/step - loss: 0.0011\n",
      "Epoch 9/100\n",
      "639/639 [==============================] - 2s 3ms/step - loss: 0.0010\n",
      "Epoch 10/100\n",
      "639/639 [==============================] - 2s 3ms/step - loss: 9.6022e-04\n",
      "Epoch 11/100\n",
      "639/639 [==============================] - 2s 3ms/step - loss: 0.0010\n",
      "Epoch 12/100\n",
      "639/639 [==============================] - 2s 3ms/step - loss: 0.0010\n",
      "Epoch 13/100\n",
      "639/639 [==============================] - 2s 3ms/step - loss: 9.1004e-04\n",
      "Epoch 14/100\n",
      "639/639 [==============================] - 2s 3ms/step - loss: 9.0372e-04\n",
      "Epoch 15/100\n",
      "639/639 [==============================] - 2s 3ms/step - loss: 9.1352e-04\n",
      "Epoch 16/100\n",
      "639/639 [==============================] - 2s 3ms/step - loss: 9.5049e-04A:\n",
      "Epoch 17/100\n",
      "639/639 [==============================] - 2s 3ms/step - loss: 8.4674e-04\n",
      "Epoch 18/100\n",
      "639/639 [==============================] - 2s 3ms/step - loss: 8.6011e-04\n",
      "Epoch 19/100\n",
      "639/639 [==============================] - 2s 3ms/step - loss: 8.8058e-04\n",
      "Epoch 20/100\n",
      "639/639 [==============================] - 2s 3ms/step - loss: 7.7199e-04\n",
      "Epoch 21/100\n",
      "639/639 [==============================] - 2s 3ms/step - loss: 8.2289e-04\n",
      "Epoch 22/100\n",
      "639/639 [==============================] - 2s 3ms/step - loss: 7.8618e-04\n",
      "Epoch 23/100\n",
      "639/639 [==============================] - 2s 3ms/step - loss: 7.0893e-04\n",
      "Epoch 24/100\n",
      "639/639 [==============================] - 2s 3ms/step - loss: 6.8414e-04\n",
      "Epoch 25/100\n",
      "639/639 [==============================] - 2s 3ms/step - loss: 6.5635e-04\n",
      "Epoch 26/100\n",
      "639/639 [==============================] - 2s 3ms/step - loss: 6.4514e-04\n",
      "Epoch 27/100\n",
      "639/639 [==============================] - 2s 3ms/step - loss: 6.8395e-04\n",
      "Epoch 28/100\n",
      "639/639 [==============================] - 2s 3ms/step - loss: 7.0946e-04\n",
      "Epoch 29/100\n",
      "639/639 [==============================] - 2s 3ms/step - loss: 6.5488e-04\n",
      "Epoch 30/100\n",
      "639/639 [==============================] - 2s 3ms/step - loss: 6.0124e-04\n",
      "Epoch 31/100\n",
      "639/639 [==============================] - 2s 3ms/step - loss: 6.1594e-04\n",
      "Epoch 32/100\n",
      "639/639 [==============================] - 2s 3ms/step - loss: 6.1749e-04\n",
      "Epoch 33/100\n",
      "639/639 [==============================] - 2s 3ms/step - loss: 5.9485e-04\n",
      "Epoch 34/100\n",
      "639/639 [==============================] - 2s 3ms/step - loss: 5.9085e-04\n",
      "Epoch 35/100\n",
      "639/639 [==============================] - 2s 3ms/step - loss: 5.7940e-04\n",
      "Epoch 36/100\n",
      "639/639 [==============================] - 2s 3ms/step - loss: 5.2431e-04\n",
      "Epoch 37/100\n",
      "639/639 [==============================] - 2s 3ms/step - loss: 6.1354e-04\n",
      "Epoch 38/100\n",
      "639/639 [==============================] - 2s 3ms/step - loss: 5.7376e-04\n",
      "Epoch 39/100\n",
      "639/639 [==============================] - 2s 3ms/step - loss: 5.1835e-04\n",
      "Epoch 40/100\n",
      "639/639 [==============================] - 2s 3ms/step - loss: 4.9632e-04\n",
      "Epoch 41/100\n",
      "639/639 [==============================] - 2s 3ms/step - loss: 5.0907e-04\n",
      "Epoch 42/100\n",
      "639/639 [==============================] - 2s 3ms/step - loss: 4.9279e-04\n",
      "Epoch 43/100\n",
      "639/639 [==============================] - 2s 3ms/step - loss: 6.1425e-04\n",
      "Epoch 44/100\n",
      "639/639 [==============================] - 2s 3ms/step - loss: 4.7954e-04\n",
      "Epoch 45/100\n",
      "639/639 [==============================] - 2s 3ms/step - loss: 5.1806e-04A: 0s - loss: 5.20\n",
      "Epoch 46/100\n",
      "639/639 [==============================] - 2s 3ms/step - loss: 4.6584e-04\n",
      "Epoch 47/100\n",
      "639/639 [==============================] - 2s 3ms/step - loss: 5.2970e-04\n",
      "Epoch 48/100\n",
      "639/639 [==============================] - 2s 3ms/step - loss: 4.7353e-04\n",
      "Epoch 49/100\n",
      "639/639 [==============================] - 2s 3ms/step - loss: 4.6898e-04\n",
      "Epoch 50/100\n",
      "639/639 [==============================] - 2s 3ms/step - loss: 5.5534e-04\n",
      "Epoch 51/100\n",
      "639/639 [==============================] - 2s 3ms/step - loss: 4.8538e-04\n",
      "Epoch 52/100\n",
      "639/639 [==============================] - 2s 3ms/step - loss: 4.8871e-04\n",
      "Epoch 53/100\n",
      "639/639 [==============================] - 2s 3ms/step - loss: 4.9421e-04\n",
      "Epoch 54/100\n",
      "639/639 [==============================] - 2s 3ms/step - loss: 5.2622e-04\n",
      "Epoch 55/100\n",
      "639/639 [==============================] - 2s 3ms/step - loss: 4.3138e-04\n",
      "Epoch 56/100\n",
      "639/639 [==============================] - 2s 3ms/step - loss: 4.2814e-04\n",
      "Epoch 57/100\n",
      "639/639 [==============================] - 2s 3ms/step - loss: 4.3906e-04\n",
      "Epoch 58/100\n",
      "639/639 [==============================] - 2s 3ms/step - loss: 4.9808e-04\n",
      "Epoch 59/100\n",
      "639/639 [==============================] - 2s 3ms/step - loss: 4.7879e-04\n",
      "Epoch 60/100\n",
      "639/639 [==============================] - 2s 3ms/step - loss: 5.1301e-04\n",
      "Epoch 61/100\n",
      "639/639 [==============================] - 2s 3ms/step - loss: 4.3093e-04\n",
      "Epoch 62/100\n",
      "639/639 [==============================] - 2s 3ms/step - loss: 5.0575e-04\n",
      "Epoch 63/100\n",
      "639/639 [==============================] - 2s 3ms/step - loss: 4.6411e-04\n",
      "Epoch 64/100\n",
      "639/639 [==============================] - 2s 3ms/step - loss: 4.9069e-04\n",
      "Epoch 65/100\n",
      "639/639 [==============================] - 2s 3ms/step - loss: 4.0310e-04\n",
      "Epoch 66/100\n",
      "639/639 [==============================] - 2s 3ms/step - loss: 4.4065e-04\n",
      "Epoch 67/100\n",
      "639/639 [==============================] - 2s 3ms/step - loss: 4.1599e-04\n",
      "Epoch 68/100\n",
      "639/639 [==============================] - 2s 3ms/step - loss: 4.3227e-04\n",
      "Epoch 69/100\n",
      "639/639 [==============================] - 2s 3ms/step - loss: 3.9266e-04\n",
      "Epoch 70/100\n",
      "639/639 [==============================] - 2s 3ms/step - loss: 3.9235e-04\n",
      "Epoch 71/100\n",
      "639/639 [==============================] - 2s 3ms/step - loss: 3.9451e-04\n",
      "Epoch 72/100\n",
      "639/639 [==============================] - 2s 3ms/step - loss: 4.5193e-04\n",
      "Epoch 73/100\n",
      "639/639 [==============================] - 2s 3ms/step - loss: 3.9405e-04\n",
      "Epoch 74/100\n",
      "639/639 [==============================] - 2s 3ms/step - loss: 4.0777e-04\n",
      "Epoch 75/100\n",
      "639/639 [==============================] - 2s 3ms/step - loss: 3.9231e-04\n",
      "Epoch 76/100\n",
      "639/639 [==============================] - 2s 3ms/step - loss: 3.9942e-04\n",
      "Epoch 77/100\n",
      "639/639 [==============================] - 2s 3ms/step - loss: 4.0269e-04\n",
      "Epoch 78/100\n",
      "639/639 [==============================] - 2s 3ms/step - loss: 3.7368e-04\n",
      "Epoch 79/100\n",
      "639/639 [==============================] - 2s 3ms/step - loss: 3.7593e-04\n",
      "Epoch 80/100\n",
      "639/639 [==============================] - 2s 3ms/step - loss: 3.7205e-04\n",
      "Epoch 81/100\n",
      "639/639 [==============================] - 2s 3ms/step - loss: 3.4970e-04\n",
      "Epoch 82/100\n",
      "639/639 [==============================] - 2s 3ms/step - loss: 3.6611e-04\n",
      "Epoch 83/100\n",
      "639/639 [==============================] - 2s 3ms/step - loss: 3.6361e-04\n",
      "Epoch 84/100\n",
      "639/639 [==============================] - 2s 3ms/step - loss: 3.8164e-04\n",
      "Epoch 85/100\n",
      "639/639 [==============================] - 2s 3ms/step - loss: 3.5889e-04\n",
      "Epoch 86/100\n",
      "639/639 [==============================] - 2s 3ms/step - loss: 3.6619e-04\n",
      "Epoch 87/100\n",
      "639/639 [==============================] - 2s 3ms/step - loss: 4.1058e-04\n",
      "Epoch 88/100\n",
      "639/639 [==============================] - 2s 3ms/step - loss: 4.6236e-04A: 0s - loss: 4.6279e-\n",
      "Epoch 89/100\n",
      "639/639 [==============================] - 2s 3ms/step - loss: 4.1439e-04\n",
      "Epoch 90/100\n",
      "639/639 [==============================] - 2s 3ms/step - loss: 3.3853e-04\n",
      "Epoch 91/100\n",
      "639/639 [==============================] - 2s 3ms/step - loss: 3.3068e-04\n",
      "Epoch 92/100\n",
      "639/639 [==============================] - 2s 3ms/step - loss: 4.0192e-04\n",
      "Epoch 93/100\n",
      "639/639 [==============================] - 2s 3ms/step - loss: 3.1915e-04\n",
      "Epoch 94/100\n",
      "639/639 [==============================] - 2s 3ms/step - loss: 3.6855e-04A: 2s - loss: 3.7570e-0\n",
      "Epoch 95/100\n",
      "639/639 [==============================] - 2s 3ms/step - loss: 3.3842e-04\n",
      "Epoch 96/100\n",
      "639/639 [==============================] - 2s 3ms/step - loss: 3.2653e-04\n",
      "Epoch 97/100\n",
      "639/639 [==============================] - 2s 3ms/step - loss: 3.5968e-04\n",
      "Epoch 98/100\n",
      "639/639 [==============================] - 2s 3ms/step - loss: 3.6412e-04\n",
      "Epoch 99/100\n",
      "639/639 [==============================] - 2s 3ms/step - loss: 3.3139e-04\n",
      "Epoch 100/100\n",
      "639/639 [==============================] - 2s 3ms/step - loss: 3.6709e-04\n",
      "############### Total Time Taken:  3 Minutes #############\n"
     ]
    }
   ],
   "source": [
    "import time\n",
    "# Measuring the time taken by the model to train\n",
    "StartTime=time.time()\n",
    "\n",
    "# Fitting the RNN to the Training set\n",
    "regressor.fit(X_train, y_train, batch_size = 5, epochs = 100)\n",
    "\n",
    "EndTime=time.time()\n",
    "print(\"############### Total Time Taken: \", round((EndTime-StartTime)/60), 'Minutes #############')"
   ]
  },
  {
   "cell_type": "code",
   "execution_count": null,
   "id": "7fa85f8e",
   "metadata": {},
   "outputs": [],
   "source": []
  },
  {
   "cell_type": "markdown",
   "id": "955b81db",
   "metadata": {},
   "source": [
    "## Generating predictions on testing data"
   ]
  },
  {
   "cell_type": "code",
   "execution_count": 18,
   "id": "8dbf4cbd",
   "metadata": {},
   "outputs": [
    {
     "data": {
      "text/plain": [
       "array([[1704.5612],\n",
       "       [1715.6227],\n",
       "       [1721.4534],\n",
       "       [1731.7025],\n",
       "       [1739.7501]], dtype=float32)"
      ]
     },
     "execution_count": 18,
     "metadata": {},
     "output_type": "execute_result"
    }
   ],
   "source": [
    "# Making predictions on test data\n",
    "predicted_Price = regressor.predict(X_test)\n",
    "predicted_Price = DataScaler.inverse_transform(predicted_Price)\n",
    "predicted_Price"
   ]
  },
  {
   "cell_type": "code",
   "execution_count": 19,
   "id": "853cf778",
   "metadata": {},
   "outputs": [
    {
     "data": {
      "text/plain": [
       "array([[1712.2 ],\n",
       "       [1704.4 ],\n",
       "       [1741.65],\n",
       "       [1733.45],\n",
       "       [1732.95]])"
      ]
     },
     "execution_count": 19,
     "metadata": {},
     "output_type": "execute_result"
    }
   ],
   "source": [
    "# Getting the original price values for testing data\n",
    "orig=y_test\n",
    "orig=DataScaler.inverse_transform(y_test)\n",
    "orig"
   ]
  },
  {
   "cell_type": "markdown",
   "id": "d76caf90",
   "metadata": {},
   "source": [
    "## Measuring the Accuracy of predictions"
   ]
  },
  {
   "cell_type": "code",
   "execution_count": 20,
   "id": "b45e2635",
   "metadata": {},
   "outputs": [
    {
     "data": {
      "text/plain": [
       "99.44851342387744"
      ]
     },
     "execution_count": 20,
     "metadata": {},
     "output_type": "execute_result"
    }
   ],
   "source": [
    "# Accuracy of the predictions\n",
    "100 - (100*(abs(orig-predicted_Price)/orig)).mean()"
   ]
  },
  {
   "cell_type": "markdown",
   "id": "fd2bf595",
   "metadata": {},
   "source": [
    "## Plotting the predictions for Testing data\n"
   ]
  },
  {
   "cell_type": "code",
   "execution_count": 21,
   "id": "63f478f2",
   "metadata": {},
   "outputs": [
    {
     "data": {
      "image/png": "[encoded data removed]",
      "text/plain": [
       "<Figure size 1440x432 with 1 Axes>"
      ]
     },
     "metadata": {
      "needs_background": "light"
     },
     "output_type": "display_data"
    }
   ],
   "source": [
    "# Visualising the results\n",
    "import matplotlib.pyplot as plt\n",
    "\n",
    "plt.plot(predicted_Price, color = 'blue', label = 'Predicted Volume')\n",
    "plt.plot(orig, color = 'lightblue', label = 'Original Volume')\n",
    "\n",
    "plt.title('Stock Price Predictions')\n",
    "plt.xlabel('Trading Date')\n",
    "plt.xticks(range(TestingRecords), StockData.tail(TestingRecords)['TradeDate'])\n",
    "plt.ylabel('Stock Price')\n",
    "\n",
    "plt.legend()\n",
    "fig=plt.gcf()\n",
    "fig.set_figwidth(20)\n",
    "fig.set_figheight(6)\n",
    "plt.show()"
   ]
  },
  {
   "cell_type": "code",
   "execution_count": null,
   "id": "8ca4b315",
   "metadata": {},
   "outputs": [],
   "source": []
  },
  {
   "cell_type": "markdown",
   "id": "fe360f2b",
   "metadata": {},
   "source": [
    "## Training the model using full data "
   ]
  },
  {
   "cell_type": "code",
   "execution_count": 65,
   "id": "831abfca",
   "metadata": {},
   "outputs": [
    {
     "name": "stdout",
     "output_type": "stream",
     "text": [
      "Epoch 1/100\n",
      "648/648 [==============================] - 3s 4ms/step - loss: 0.0904\n",
      "Epoch 2/100\n",
      "648/648 [==============================] - 2s 3ms/step - loss: 0.0039\n",
      "Epoch 3/100\n",
      "648/648 [==============================] - 2s 2ms/step - loss: 0.0029\n",
      "Epoch 4/100\n",
      "648/648 [==============================] - 2s 2ms/step - loss: 0.0022\n",
      "Epoch 5/100\n",
      "648/648 [==============================] - 2s 3ms/step - loss: 0.0016\n",
      "Epoch 6/100\n",
      "648/648 [==============================] - 2s 3ms/step - loss: 0.0013\n",
      "Epoch 7/100\n",
      "648/648 [==============================] - 2s 2ms/step - loss: 0.0012\n",
      "Epoch 8/100\n",
      "648/648 [==============================] - 2s 2ms/step - loss: 0.0012\n",
      "Epoch 9/100\n",
      "648/648 [==============================] - 2s 3ms/step - loss: 0.0011\n",
      "Epoch 10/100\n",
      "648/648 [==============================] - 2s 2ms/step - loss: 0.0011\n",
      "Epoch 11/100\n",
      "648/648 [==============================] - 2s 3ms/step - loss: 0.0012\n",
      "Epoch 12/100\n",
      "648/648 [==============================] - 2s 3ms/step - loss: 0.0011\n",
      "Epoch 13/100\n",
      "648/648 [==============================] - 2s 3ms/step - loss: 0.0011\n",
      "Epoch 14/100\n",
      "648/648 [==============================] - 2s 3ms/step - loss: 0.0011\n",
      "Epoch 15/100\n",
      "648/648 [==============================] - 2s 3ms/step - loss: 0.0011\n",
      "Epoch 16/100\n",
      "648/648 [==============================] - 2s 3ms/step - loss: 0.0011\n",
      "Epoch 17/100\n",
      "648/648 [==============================] - 2s 3ms/step - loss: 0.0011\n",
      "Epoch 18/100\n",
      "648/648 [==============================] - 2s 3ms/step - loss: 0.0011\n",
      "Epoch 19/100\n",
      "648/648 [==============================] - 2s 3ms/step - loss: 0.0011\n",
      "Epoch 20/100\n",
      "648/648 [==============================] - 2s 3ms/step - loss: 0.0013\n",
      "Epoch 21/100\n",
      "648/648 [==============================] - 2s 3ms/step - loss: 0.0011\n",
      "Epoch 22/100\n",
      "648/648 [==============================] - 2s 3ms/step - loss: 0.0011\n",
      "Epoch 23/100\n",
      "648/648 [==============================] - 2s 3ms/step - loss: 0.0013\n",
      "Epoch 24/100\n",
      "648/648 [==============================] - 2s 3ms/step - loss: 0.0011\n",
      "Epoch 25/100\n",
      "648/648 [==============================] - 2s 3ms/step - loss: 0.0012\n",
      "Epoch 26/100\n",
      "648/648 [==============================] - 2s 3ms/step - loss: 0.0012\n",
      "Epoch 27/100\n",
      "648/648 [==============================] - 2s 3ms/step - loss: 0.0011\n",
      "Epoch 28/100\n",
      "648/648 [==============================] - 2s 3ms/step - loss: 0.0011\n",
      "Epoch 29/100\n",
      "648/648 [==============================] - 2s 3ms/step - loss: 0.0011\n",
      "Epoch 30/100\n",
      "648/648 [==============================] - 2s 3ms/step - loss: 0.0010\n",
      "Epoch 31/100\n",
      "648/648 [==============================] - 2s 3ms/step - loss: 0.0011\n",
      "Epoch 32/100\n",
      "648/648 [==============================] - 2s 3ms/step - loss: 0.0011\n",
      "Epoch 33/100\n",
      "648/648 [==============================] - 2s 3ms/step - loss: 0.0011\n",
      "Epoch 34/100\n",
      "648/648 [==============================] - 2s 3ms/step - loss: 0.0012\n",
      "Epoch 35/100\n",
      "648/648 [==============================] - 2s 3ms/step - loss: 0.0011\n",
      "Epoch 36/100\n",
      "648/648 [==============================] - 2s 3ms/step - loss: 0.0010\n",
      "Epoch 37/100\n",
      "648/648 [==============================] - 2s 3ms/step - loss: 0.0012\n",
      "Epoch 38/100\n",
      "648/648 [==============================] - 2s 3ms/step - loss: 0.0011\n",
      "Epoch 39/100\n",
      "648/648 [==============================] - 2s 4ms/step - loss: 0.0011A: 0s - los\n",
      "Epoch 40/100\n",
      "648/648 [==============================] - 2s 3ms/step - loss: 0.0011\n",
      "Epoch 41/100\n",
      "648/648 [==============================] - 2s 3ms/step - loss: 0.0010\n",
      "Epoch 42/100\n",
      "648/648 [==============================] - 2s 3ms/step - loss: 0.0010A: 0s - lo\n",
      "Epoch 43/100\n",
      "648/648 [==============================] - 2s 3ms/step - loss: 0.0010\n",
      "Epoch 44/100\n",
      "648/648 [==============================] - 2s 3ms/step - loss: 0.0010\n",
      "Epoch 45/100\n",
      "648/648 [==============================] - 2s 3ms/step - loss: 9.8704e-04\n",
      "Epoch 46/100\n",
      "648/648 [==============================] - 2s 3ms/step - loss: 0.0012\n",
      "Epoch 47/100\n",
      "648/648 [==============================] - 2s 3ms/step - loss: 9.8420e-04\n",
      "Epoch 48/100\n",
      "648/648 [==============================] - 2s 3ms/step - loss: 0.0011\n",
      "Epoch 49/100\n",
      "648/648 [==============================] - 2s 3ms/step - loss: 0.0010\n",
      "Epoch 50/100\n",
      "648/648 [==============================] - 2s 3ms/step - loss: 0.0010\n",
      "Epoch 51/100\n",
      "648/648 [==============================] - 2s 3ms/step - loss: 9.8403e-04\n",
      "Epoch 52/100\n",
      "648/648 [==============================] - 2s 3ms/step - loss: 9.9164e-04\n",
      "Epoch 53/100\n",
      "648/648 [==============================] - 2s 3ms/step - loss: 0.0010\n",
      "Epoch 54/100\n",
      "648/648 [==============================] - 2s 3ms/step - loss: 9.7067e-04\n",
      "Epoch 55/100\n",
      "648/648 [==============================] - 2s 3ms/step - loss: 9.7545e-04\n",
      "Epoch 56/100\n",
      "648/648 [==============================] - 2s 3ms/step - loss: 0.0011- ETA: 1s \n",
      "Epoch 57/100\n",
      "648/648 [==============================] - 2s 3ms/step - loss: 0.0011\n",
      "Epoch 58/100\n",
      "648/648 [==============================] - 2s 3ms/step - loss: 9.2529e-04\n",
      "Epoch 59/100\n",
      "648/648 [==============================] - 2s 3ms/step - loss: 9.2237e-04\n",
      "Epoch 60/100\n",
      "648/648 [==============================] - 2s 3ms/step - loss: 9.3698e-04\n",
      "Epoch 61/100\n",
      "648/648 [==============================] - 2s 3ms/step - loss: 9.3872e-04\n",
      "Epoch 62/100\n",
      "648/648 [==============================] - 2s 3ms/step - loss: 9.9069e-04\n",
      "Epoch 63/100\n",
      "648/648 [==============================] - 2s 3ms/step - loss: 8.7773e-04\n",
      "Epoch 64/100\n",
      "648/648 [==============================] - 2s 3ms/step - loss: 9.4696e-04\n",
      "Epoch 65/100\n",
      "648/648 [==============================] - 2s 3ms/step - loss: 8.6373e-04\n",
      "Epoch 66/100\n",
      "648/648 [==============================] - 2s 3ms/step - loss: 8.9893e-04\n",
      "Epoch 67/100\n",
      "648/648 [==============================] - 2s 3ms/step - loss: 9.7779e-04\n",
      "Epoch 68/100\n",
      "648/648 [==============================] - 2s 3ms/step - loss: 8.5220e-04\n",
      "Epoch 69/100\n",
      "648/648 [==============================] - 2s 3ms/step - loss: 8.9820e-04\n",
      "Epoch 70/100\n",
      "648/648 [==============================] - 2s 3ms/step - loss: 9.7031e-04\n",
      "Epoch 71/100\n",
      "648/648 [==============================] - 2s 3ms/step - loss: 8.9203e-04\n",
      "Epoch 72/100\n",
      "648/648 [==============================] - 2s 3ms/step - loss: 9.6943e-04\n",
      "Epoch 73/100\n",
      "648/648 [==============================] - 2s 3ms/step - loss: 9.1614e-04\n",
      "Epoch 74/100\n",
      "648/648 [==============================] - 2s 3ms/step - loss: 9.3615e-04\n",
      "Epoch 75/100\n",
      "648/648 [==============================] - 2s 3ms/step - loss: 9.4089e-04\n",
      "Epoch 76/100\n",
      "648/648 [==============================] - 2s 3ms/step - loss: 9.2193e-04\n",
      "Epoch 77/100\n",
      "648/648 [==============================] - 2s 3ms/step - loss: 9.2780e-04\n",
      "Epoch 78/100\n",
      "648/648 [==============================] - 2s 3ms/step - loss: 8.2881e-04\n",
      "Epoch 79/100\n",
      "648/648 [==============================] - 2s 3ms/step - loss: 8.4805e-04\n",
      "Epoch 80/100\n",
      "648/648 [==============================] - 2s 3ms/step - loss: 8.3221e-04\n",
      "Epoch 81/100\n",
      "648/648 [==============================] - 2s 3ms/step - loss: 9.7466e-04\n",
      "Epoch 82/100\n",
      "648/648 [==============================] - 2s 3ms/step - loss: 8.4560e-04\n",
      "Epoch 83/100\n",
      "648/648 [==============================] - 2s 3ms/step - loss: 7.8864e-04\n",
      "Epoch 84/100\n",
      "648/648 [==============================] - 2s 3ms/step - loss: 7.9664e-04\n",
      "Epoch 85/100\n",
      "648/648 [==============================] - 2s 3ms/step - loss: 7.6509e-04\n",
      "Epoch 86/100\n",
      "648/648 [==============================] - 2s 3ms/step - loss: 8.2085e-04\n",
      "Epoch 87/100\n",
      "648/648 [==============================] - 2s 3ms/step - loss: 7.8900e-04\n",
      "Epoch 88/100\n",
      "648/648 [==============================] - 2s 3ms/step - loss: 7.8855e-04\n",
      "Epoch 89/100\n",
      "648/648 [==============================] - 2s 3ms/step - loss: 7.6169e-04\n",
      "Epoch 90/100\n",
      "648/648 [==============================] - 2s 3ms/step - loss: 7.0595e-04\n",
      "Epoch 91/100\n",
      "648/648 [==============================] - 2s 3ms/step - loss: 7.4383e-04\n",
      "Epoch 92/100\n",
      "648/648 [==============================] - 2s 3ms/step - loss: 6.7516e-04\n",
      "Epoch 93/100\n",
      "648/648 [==============================] - 2s 3ms/step - loss: 6.7282e-04\n",
      "Epoch 94/100\n",
      "648/648 [==============================] - 2s 3ms/step - loss: 6.7173e-04\n",
      "Epoch 95/100\n",
      "648/648 [==============================] - 2s 3ms/step - loss: 6.6071e-04A: 1s - \n",
      "Epoch 96/100\n",
      "648/648 [==============================] - 2s 3ms/step - loss: 6.6300e-04\n",
      "Epoch 97/100\n",
      "648/648 [==============================] - 2s 3ms/step - loss: 6.5304e-04\n",
      "Epoch 98/100\n",
      "648/648 [==============================] - 2s 3ms/step - loss: 6.7640e-04\n",
      "Epoch 99/100\n",
      "648/648 [==============================] - 2s 3ms/step - loss: 6.3750e-04\n",
      "Epoch 100/100\n",
      "648/648 [==============================] - 2s 3ms/step - loss: 6.6508e-04\n",
      "############### Total Time Taken:  3 Minutes #############\n"
     ]
    }
   ],
   "source": [
    "# Initialising the RNN\n",
    "regressor = Sequential()\n",
    "\n",
    "# Adding the First input hidden layer and the LSTM layer\n",
    "# return_sequences = True, means the output of every time step to be shared with hidden next layer\n",
    "regressor.add(LSTM(units = 10, activation = 'relu', input_shape = (TimeSteps, TotalFeatures), return_sequences=True))\n",
    "\n",
    "\n",
    "# Adding the Second hidden layer and the LSTM layer\n",
    "regressor.add(LSTM(units = 5, activation = 'relu', input_shape = (TimeSteps, TotalFeatures), return_sequences=True))\n",
    "\n",
    "# Adding the Third hidden layer and the LSTM layer\n",
    "regressor.add(LSTM(units = 5, activation = 'relu', return_sequences=False ))\n",
    "\n",
    "\n",
    "# Adding the output layer\n",
    "regressor.add(Dense(units = 1))\n",
    "\n",
    "# Compiling the RNN\n",
    "regressor.compile(optimizer = 'adam', loss = 'mean_squared_error')\n",
    "\n",
    "# Measuring the time taken by the model to train\n",
    "StartTime=time.time()\n",
    "\n",
    "# Fitting the RNN to the Training set\n",
    "regressor.fit(X_data, y_data, batch_size = 5, epochs = 100)\n",
    "\n",
    "EndTime=time.time()\n",
    "print(\"############### Total Time Taken: \", round((EndTime-StartTime)/60), 'Minutes #############')"
   ]
  },
  {
   "cell_type": "code",
   "execution_count": null,
   "id": "5351a50a",
   "metadata": {},
   "outputs": [],
   "source": []
  },
  {
   "cell_type": "markdown",
   "id": "0ef3f328",
   "metadata": {},
   "source": [
    "## Generating predictions for next day"
   ]
  },
  {
   "cell_type": "code",
   "execution_count": 66,
   "id": "ac6164db",
   "metadata": {},
   "outputs": [
    {
     "data": {
      "text/plain": [
       "array([[1766.5282]], dtype=float32)"
      ]
     },
     "execution_count": 66,
     "metadata": {},
     "output_type": "execute_result"
    }
   ],
   "source": [
    "# Making predictions on test data\n",
    "predicted_Price = regressor.predict(X_data[-1:])\n",
    "predicted_Price = DataScaler.inverse_transform(predicted_Price)\n",
    "predicted_Price"
   ]
  },
  {
   "cell_type": "markdown",
   "id": "bfe32a31",
   "metadata": {},
   "source": [
    "## Accuracy check \n",
    "\n",
    "                 Original Price     Predicted Price\n",
    "23/8/2021(Monday)------>1738.75-------------------->1714.5729\n",
    "\n",
    "24/8/2021(Tuesday)----->1720.85-------------------->1696.1956\n",
    "\n",
    "25/8/2021(Wednesday)->1735.55-------------------->1748.4498\n",
    "\n",
    "26/8/2021(Thursday)---->1727.70-------------------->1699.4266\n",
    "\n",
    "27/8/2021(Saturday)---->1708.80-------------------->1766.5282\n",
    "\n",
    "I have noted the original closing price on daily to check the accuracy.\n",
    "\n",
    "<b> Accuracy of the predictions - 98.284% <b>\n"
   ]
  },
  {
   "cell_type": "markdown",
   "id": "54647660",
   "metadata": {},
   "source": [
    "## Conclusion\n",
    "Here we have predicted for one day at a time. We have predicted for one day at a time because share market is highly volatile and predicting for a single day gives very good accuracy. This type of predictions can be used for day trading. In the next notebook we will predict for 5 days at a time and check whether there is any change in accuracy.\n",
    "\n",
    "I have ran this codes every night to predict next day's closing price. After that I noted the original closing price at the end of the day to check the accuracy of the prediction."
   ]
  },
  {
   "cell_type": "code",
   "execution_count": null,
   "id": "c3123c8d",
   "metadata": {},
   "outputs": [],
   "source": []
  }
 ],
 "metadata": {
  "kernelspec": {
   "display_name": "Python 3",
   "language": "python",
   "name": "python3"
  },
  "language_info": {
   "codemirror_mode": {
    "name": "ipython",
    "version": 3
   },
   "file_extension": ".py",
   "mimetype": "text/x-python",
   "name": "python",
   "nbconvert_exporter": "python",
   "pygments_lexer": "ipython3",
   "version": "3.6.13"
  }
 },
 "nbformat": 4,
 "nbformat_minor": 5
}
