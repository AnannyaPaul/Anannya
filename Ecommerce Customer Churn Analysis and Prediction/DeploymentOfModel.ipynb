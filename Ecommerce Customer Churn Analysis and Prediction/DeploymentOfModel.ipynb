{
 "cells": [
  {
   "cell_type": "markdown",
   "metadata": {},
   "source": [
    "# Deployment Of Customer Churn Prediction Model \n"
   ]
  },
  {
   "cell_type": "markdown",
   "metadata": {},
   "source": [
    "### Create a python function\n"
   ]
  },
  {
   "cell_type": "code",
   "execution_count": 4,
   "metadata": {},
   "outputs": [],
   "source": [
    "# This Function can be called from any from any front end tool/website\n",
    "def FunctionPredictResult(InputData):\n",
    "    import pandas as pd\n",
    "    Num_Inputs=InputData.shape[0]\n",
    "    \n",
    "    # Making sure the input data has same columns as it was used for training the model\n",
    "    # Also, if standardization/normalization was done, then same must be done for new input\n",
    "    \n",
    "    # Appending the new data with the Training data\n",
    "    DataForML=pd.read_pickle('C:/Users/anann/E-commerce Customer Churn Analysis and Prediction/FinalChurnData.pkl')\n",
    "    InputData=InputData.append(DataForML)\n",
    "            \n",
    "    # Maintaining the same order of columns as it was during the model training\n",
    "    Predictors=['Tenure', 'WarehouseToHome', 'CashbackAmount', \n",
    "       'NumberOfDeviceRegistered', 'SatisfactionScore', 'NumberOfAddress',\n",
    "       'Complain', 'OrderAmountHikeFromlastYear', 'OrderCount',\n",
    "       'DaySinceLastOrder']\n",
    "    \n",
    "    # Generating the input values to the model\n",
    "    X=InputData[Predictors].values[0:Num_Inputs]\n",
    "    \n",
    "    ### Sandardization of data ###\n",
    "    from sklearn.preprocessing import StandardScaler, MinMaxScaler\n",
    "\n",
    "    PredictorScaler=MinMaxScaler()\n",
    "\n",
    "    # Storing the fit object for later reference\n",
    "    PredictorScalerFit=PredictorScaler.fit(X)\n",
    "\n",
    "    # Generating the standardized values of X since it was done while model training also\n",
    "    X=PredictorScalerFit.transform(X)\n",
    "    \n",
    "    # Loading the Function from pickle file\n",
    "    import pickle\n",
    "    with open('C:/Users/anann/E-commerce Customer Churn Analysis and Prediction/FinalRFModel.pkl', 'rb') as fileReadStream:\n",
    "        PredictionModel=pickle.load(fileReadStream)\n",
    "        # Don't forget to close the filestream!\n",
    "        fileReadStream.close()\n",
    "            \n",
    "    # Genrating Predictions\n",
    "    Prediction=PredictionModel.predict(X)\n",
    "    PredictionResult=pd.DataFrame(Prediction, columns=['Predicted Status'])\n",
    "    return(PredictionResult)"
   ]
  },
  {
   "cell_type": "code",
   "execution_count": 14,
   "metadata": {},
   "outputs": [
    {
     "name": "stdout",
     "output_type": "stream",
     "text": [
      "   Tenure  WarehouseToHome  CashbackAmount  NumberOfDeviceRegistered  \\\n",
      "0     4.0                6             160                         3   \n",
      "1    12.0               10             200                         3   \n",
      "\n",
      "   SatisfactionScore  NumberOfAddress  Complain  OrderAmountHikeFromlastYear  \\\n",
      "0                  2                9         1                           11   \n",
      "1                  4                3         0                           20   \n",
      "\n",
      "   OrderCount  DaySinceLastOrder  \n",
      "0           1                  5  \n",
      "1           5                 10  \n"
     ]
    },
    {
     "data": {
      "text/html": [
       "<div>\n",
       "<style scoped>\n",
       "    .dataframe tbody tr th:only-of-type {\n",
       "        vertical-align: middle;\n",
       "    }\n",
       "\n",
       "    .dataframe tbody tr th {\n",
       "        vertical-align: top;\n",
       "    }\n",
       "\n",
       "    .dataframe thead th {\n",
       "        text-align: right;\n",
       "    }\n",
       "</style>\n",
       "<table border=\"1\" class=\"dataframe\">\n",
       "  <thead>\n",
       "    <tr style=\"text-align: right;\">\n",
       "      <th></th>\n",
       "      <th>Predicted Status</th>\n",
       "    </tr>\n",
       "  </thead>\n",
       "  <tbody>\n",
       "    <tr>\n",
       "      <th>0</th>\n",
       "      <td>0</td>\n",
       "    </tr>\n",
       "    <tr>\n",
       "      <th>1</th>\n",
       "      <td>0</td>\n",
       "    </tr>\n",
       "  </tbody>\n",
       "</table>\n",
       "</div>"
      ],
      "text/plain": [
       "   Predicted Status\n",
       "0                 0\n",
       "1                 0"
      ]
     },
     "execution_count": 14,
     "metadata": {},
     "output_type": "execute_result"
    }
   ],
   "source": [
    "import pandas as pd\n",
    "# Calling the function for some loan applications\n",
    "NewSampleData=pd.DataFrame(\n",
    "data=[[4.0,6,160, 3, 2, 9, 1, 11, 1, 5],\n",
    "     [12.0,10,200, 3, 4, 3, 0, 20, 5, 10]],\n",
    "columns=['Tenure', 'WarehouseToHome', 'CashbackAmount', \n",
    "       'NumberOfDeviceRegistered', 'SatisfactionScore', 'NumberOfAddress',\n",
    "       'Complain', 'OrderAmountHikeFromlastYear', 'OrderCount',\n",
    "       'DaySinceLastOrder'])\n",
    "\n",
    "print(NewSampleData)\n",
    "\n",
    "# Calling the Function for prediction\n",
    "FunctionPredictResult(InputData= NewSampleData)"
   ]
  },
  {
   "cell_type": "markdown",
   "metadata": {},
   "source": [
    "The Function FunctionPredictResult can be used to produce the predictions for one or more cases at a time. Hence, it can be scheduled using a batch job or cron job to run every night and generate predictions for all the available cases."
   ]
  },
  {
   "cell_type": "code",
   "execution_count": null,
   "metadata": {},
   "outputs": [],
   "source": []
  },
  {
   "cell_type": "markdown",
   "metadata": {},
   "source": [
    "## Function for predictions API"
   ]
  },
  {
   "cell_type": "code",
   "execution_count": 15,
   "metadata": {},
   "outputs": [
    {
     "data": {
      "text/plain": [
       "'{\"Predicted Status\":{\"0\":0}}'"
      ]
     },
     "execution_count": 15,
     "metadata": {},
     "output_type": "execute_result"
    }
   ],
   "source": [
    "# Creating the function which can take inputs and return predictions\n",
    "def FunctionGeneratePrediction(Inp_Tenure, Inp_WarehouseToHome, Inp_CashbackAmount, \n",
    "       Inp_NumberOfDeviceRegistered, Inp_SatisfactionScore, Inp_NumberOfAddress,\n",
    "       Inp_Complain, Inp_OrderAmountHikeFromlastYear, Inp_OrderCount,\n",
    "       Inp_DaySinceLastOrder):\n",
    "    \n",
    "    # Creating a data frame for the model input\n",
    "    SampleInputData=pd.DataFrame(\n",
    "     data=[[Inp_Tenure, Inp_WarehouseToHome, Inp_CashbackAmount, \n",
    "       Inp_NumberOfDeviceRegistered, Inp_SatisfactionScore, Inp_NumberOfAddress,\n",
    "       Inp_Complain, Inp_OrderAmountHikeFromlastYear, Inp_OrderCount,\n",
    "       Inp_DaySinceLastOrder]],\n",
    "     columns=['Tenure', 'WarehouseToHome', 'CashbackAmount', \n",
    "       'NumberOfDeviceRegistered', 'SatisfactionScore', 'NumberOfAddress',\n",
    "       'Complain', 'OrderAmountHikeFromlastYear', 'OrderCount',\n",
    "       'DaySinceLastOrder'])\n",
    "\n",
    "    # Calling the function defined above using the input parameters\n",
    "    Predictions=FunctionPredictResult(InputData= SampleInputData)\n",
    "\n",
    "    # Returning the predictions\n",
    "    return(Predictions.to_json())\n",
    "\n",
    "# Function call\n",
    "FunctionGeneratePrediction(  Inp_Tenure=12, \n",
    "                             Inp_WarehouseToHome=10, \n",
    "                             Inp_CashbackAmount=200, \n",
    "                             Inp_NumberOfDeviceRegistered=3, \n",
    "                             Inp_SatisfactionScore=4, \n",
    "                             Inp_NumberOfAddress=4,\n",
    "                             Inp_Complain=0, \n",
    "                             Inp_OrderAmountHikeFromlastYear=20, \n",
    "                             Inp_OrderCount=3,\n",
    "                             Inp_DaySinceLastOrder=6\n",
    "                             )"
   ]
  },
  {
   "cell_type": "markdown",
   "metadata": {},
   "source": [
    "## Creating Flask API"
   ]
  },
  {
   "cell_type": "code",
   "execution_count": 16,
   "metadata": {},
   "outputs": [],
   "source": [
    "from flask import Flask, request, jsonify\n",
    "import pickle\n",
    "import pandas as pd\n",
    "import numpy"
   ]
  },
  {
   "cell_type": "code",
   "execution_count": 18,
   "metadata": {},
   "outputs": [],
   "source": [
    "app = Flask(__name__)\n",
    "\n",
    "@app.route('/prediction_api', methods=[\"GET\"])\n",
    "def prediction_api():\n",
    "    try:\n",
    "        # Getting the paramters from API call\n",
    "        Tenure_value = float(request.args.get('Tenure'))\n",
    "        WarehouseToHome_value=float(request.args.get('WarehouseToHome'))\n",
    "        CashbackAmount_value = float(request.args.get('CashbackAmount'))\n",
    "        NumberOfDeviceRegistered_value = int(request.args.get('NumberOfDeviceRegistered'))\n",
    "        SatisfactionScore_value = int(request.args.get('SatisfactionScore'))\n",
    "        NumberOfAddress_value = int(request.args.get('NumberOfAddress'))\n",
    "        Complain_value = int(request.args.get('Complain'))\n",
    "        OrderAmountHikeFromlastYear_value = float(request.args.get('OrderAmountHikeFromlastYear'))\n",
    "        OrderCount_value = float(request.args.get('OrderCount'))\n",
    "        DaySinceLastOrder_value = float(request.args.get('DaySinceLastOrder'))\n",
    "                \n",
    "        # Calling the funtion to get predictions\n",
    "        prediction_from_api=FunctionGeneratePrediction(\n",
    "                                                Inp_Tenure= Tenure_value, \n",
    "                                                Inp_WarehouseToHome=WarehouseToHome_value, \n",
    "                                                Inp_CashbackAmount=CashbackAmount_value, \n",
    "                                                Inp_NumberOfDeviceRegistered=NumberOfDeviceRegistered_value, \n",
    "                                                Inp_SatisfactionScore=SatisfactionScore_value, \n",
    "                                                Inp_NumberOfAddress=NumberOfAddress_value,\n",
    "                                                Inp_Complain=Complain_value, \n",
    "                                                Inp_OrderAmountHikeFromlastYear=OrderAmountHikeFromlastYear_value, \n",
    "                                                Inp_OrderCount=OrderCount_value,\n",
    "                                                Inp_DaySinceLastOrder=DaySinceLastOrder_value\n",
    "                                                )\n",
    "\n",
    "        return (prediction_from_api)\n",
    "    \n",
    "    except Exception as e:\n",
    "        return('Something is not right!:'+str(e))"
   ]
  },
  {
   "cell_type": "markdown",
   "metadata": {},
   "source": [
    "## Starting the API engine\n",
    "\n"
   ]
  },
  {
   "cell_type": "code",
   "execution_count": 19,
   "metadata": {},
   "outputs": [
    {
     "name": "stdout",
     "output_type": "stream",
     "text": [
      " * Serving Flask app \"__main__\" (lazy loading)\n",
      " * Environment: production\n",
      "   WARNING: This is a development server. Do not use it in a production deployment.\n",
      "   Use a production WSGI server instead.\n",
      " * Debug mode: on\n"
     ]
    },
    {
     "name": "stderr",
     "output_type": "stream",
     "text": [
      " * Running on http://127.0.0.1:8080/ (Press CTRL+C to quit)\n",
      "127.0.0.1 - - [25/Aug/2021 21:48:45] \"\u001b[37mGET /prediction_api?Tenure=12&WarehouseToHome=20&CashbackAmount=200&NumberOfDeviceRegistered=4&SatisfactionScore=4&NumberOfAddress=3&Complain=0&OrderAmountHikeFromlastYear=20&OrderCount=4&DaySinceLastOrder=7 HTTP/1.1\u001b[0m\" 200 -\n"
     ]
    }
   ],
   "source": [
    "import os\n",
    "if __name__ ==\"__main__\":\n",
    "    \n",
    "    # Hosting the API in localhost\n",
    "    app.run(host='127.0.0.1', port=8080, threaded=True, debug=True, use_reloader=False)\n",
    "    # Interrupt kernel to stop the API"
   ]
  },
  {
   "cell_type": "markdown",
   "metadata": {},
   "source": [
    "## Sample URL to call the API\n",
    "\n",
    "\n",
    "#### Copy and paste below URL in the web browser\n",
    "http://127.0.0.1:8080/prediction_api?Tenure=12&WarehouseToHome=20&CashbackAmount=200&NumberOfDeviceRegistered=4&SatisfactionScore=4&NumberOfAddress=3&Complain=0&OrderAmountHikeFromlastYear=20&OrderCount=4&DaySinceLastOrder=7"
   ]
  },
  {
   "cell_type": "code",
   "execution_count": null,
   "metadata": {},
   "outputs": [],
   "source": []
  }
 ],
 "metadata": {
  "kernelspec": {
   "display_name": "Python 3",
   "language": "python",
   "name": "python3"
  },
  "language_info": {
   "codemirror_mode": {
    "name": "ipython",
    "version": 3
   },
   "file_extension": ".py",
   "mimetype": "text/x-python",
   "name": "python",
   "nbconvert_exporter": "python",
   "pygments_lexer": "ipython3",
   "version": "3.7.6"
  }
 },
 "nbformat": 4,
 "nbformat_minor": 4
}
